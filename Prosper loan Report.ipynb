{
 "cells": [
  {
   "cell_type": "markdown",
   "id": "60fc648d-59be-4a53-a152-faf4be185fc0",
   "metadata": {},
   "source": [
    "# Python Project - Prosper Loan\n",
    "## by Juliet Ifunanya Anaetoh\n",
    "\n",
    "## Introduction\n",
    "\n",
    "> The Prosper loan project is an exploratory analysis. We are provided with a dataset which constitutes of details on different people that took loan from Prosper company.The Prosper Loan Dataset originally consists of 113937 entries (rows) and 81 columns. Each column distinctively listing out corresponding categorical or quantitative values that it represents.\n"
   ]
  },
  {
   "cell_type": "markdown",
   "id": "15f11188-0dc7-48fe-a57d-471fb52296d7",
   "metadata": {},
   "source": [
    "## Preliminary Wrangling\n",
    "> Preliminary Wrangling simply means to inspect data for quality and consistency. In the real sense data is rarely ever clean, so preliminary wrangling is a very important stage, it also helps to put the dataset in a more proper form before visualization. During this stage I meticuously skimmed through the dataset, guided by the intended univariate and bivariate exploratory questions. I dropped all unnecessary fields, then for the fields that had missing values. I filled the missing quantitative values with the mean and the categorical values with mode. After these my dataset was more precise and consistent.\n"
   ]
  },
  {
   "cell_type": "markdown",
   "id": "097e088b-e8bd-4e0e-a2cd-08223373968b",
   "metadata": {},
   "source": [
    "## What is the structure of your dataset?\n",
    "> The dataset is structured. Neatly arranged into rows and columns with some missing values, boolean, integer, float, object."
   ]
  },
  {
   "attachments": {},
   "cell_type": "markdown",
   "id": "53d33a64-7dff-4109-893c-12e0166bf7cd",
   "metadata": {},
   "source": [
    "## What is/are the main feature(s) of interest in your dataset?\n",
    "> These include: LoanOriginalAmount,Term, LoanStatus,BorrowerAPR, ListingCategory (numeric).\r\n"
   ]
  },
  {
   "cell_type": "markdown",
   "id": "c593a7df-02cf-415e-9fdd-c1f6dbf55082",
   "metadata": {},
   "source": [
    "## What features in the dataset do you think will help support your investigation into your feature(s) of interest?\n",
    "> LoanStatus, BorrowerAPR, CreditScoreRangeLower, DebtToIncomeRatio, StatedMonthlyIncome, LoanOriginalAmount"
   ]
  },
  {
   "cell_type": "markdown",
   "id": "ac1cc5b2-3e71-4121-9bc5-48d91f863e9d",
   "metadata": {},
   "source": [
    "## Univariate Exploration\n",
    "## Question\n",
    "> Does income influence loan amount?\n",
    "> Yes, this is because the more the income of an individual, the more likely it is for them to get a loan."
   ]
  },
  {
   "cell_type": "markdown",
   "id": "18dc5128-bfcb-4dc3-9498-d8487e7c51e4",
   "metadata": {},
   "source": [
    "## Discuss the distribution(s) of your variable(s) of interest. Were there any unusual points? Did you need to perform any transformations?\n",
    "> LoanStatus: This univariate chart is a graphical representation of the different LoanStatus with the number of occurences represented by a bar. From the analysis current status has the highest frequeency, which means that the largest percentage of borrowwers are actively paying up and their payments are up to date\n",
    "> BorrowerAPR: This explores the average BorrowerAPR across all loans in the dataset.\n",
    "> CreditScoreRangeLower: This shows how CreditScoreRange Lower is distributed across board.\n",
    "> DebtToIncomeRatio: Shows the distribution of DebtToIncomeRatio and from all indication majority falls between 0 to 2.\n",
    "> EmploymentStatus: The last univariate exploration shows the distribution of the EmploymentStatus. From the distribution we can see that the highest frequency distribution goes to the Employed."
   ]
  },
  {
   "cell_type": "markdown",
   "id": "7487cdb7-d28c-4b43-872e-bb03bad6b4ec",
   "metadata": {},
   "source": [
    "## Of the features you investigated, were there any unusual distributions? Did you perform any operations on the data to tidy, adjust, or change the form of the data? If so, why did you do this?\n",
    "> I deleted some of the field that didn't directly affect my exploration and I filled all missing values."
   ]
  },
  {
   "cell_type": "markdown",
   "id": "fdafd609-2106-44ed-9fcb-e00e4e42a95b",
   "metadata": {},
   "source": [
    "## Bivariate Exploration\n",
    "\n",
    "## Talk about some of the relationships you observed in this part of the investigation. How did the feature(s) of interest vary with other features in the dataset?\n",
    "From observation, the features of interest vary with other features in the dataset. Here are my observations below;\n",
    ">\n",
    "**BorrowerAPR vs. LoanOriginalAmount**: This clearly gave a representation of how the BorrowerAPR and LoanOriginalAmount relates with each other using a scatter plot. Different loan amount had its corresponding and unique APR.\n",
    "**CreditScoreRangeLower vs. LoanStatus**: This shows the distribution of credit scores for each loan status category.  It includes the count, mean, standard deviation, minimum, quartiles, and maximum values for each loan status category. This analysis helps in understanding whether certain loan statuses (e.g., current, late, defaulted) are associated with specific ranges of lower credit scores, which can be useful for risk management and lending decisions. Poeple that fell within the lower credit score bound appeared to be defaulters or with bad records. From analyis the Lower credit score the lower the credit worthiness.\n",
    "**EmploymentStatus vs. StatedMonthlyIncome**: Each box represents the distribution of monthly income for a specific employment status (like employed, self-employed, unemployed). Monthly income were spread out for different employment status. For instance, you might observe that employed borrowers tend to have higher and more consistent incomes compared to others.\n",
    "**DebtToIncomeRatio vs. LoanStatus**: This shows how the debt-to-income ratio is distributed for different loan statuses. For example, you might see that loans in default or late status have higher debt-to-income ratios.\n",
    "**StatedMonthlyIncome vs. LoanOriginalAmount**: This plot visualizes the relationship between borrowers' stated monthly incomes and the amounts they were originally loaned. You might see patterns indicating whether higher income correlates with larger loan amounts."
   ]
  },
  {
   "cell_type": "markdown",
   "id": "306283e1-69ed-4d79-95fb-901f3062930d",
   "metadata": {},
   "source": [
    "## Did you observe any interesting relationships between the other features (not the main feature(s) of interest)?\n",
    "> I observed an interesting relationship between EmploymentStatus vs. StatedMonthlyIncome. It shows clearly the differences in the earning power of the different Employment status, this could as well guide the lender on capabilities of each person that falls under the categories on future transactions."
   ]
  },
  {
   "cell_type": "markdown",
   "id": "7af637e5-0c0d-4a4a-983b-0c21870a5989",
   "metadata": {},
   "source": [
    "## Conclusions\n",
    "\n",
    "\r\n",
    "1. **Credit Risk and Default Prediction:**\r\n",
    "   - **Prosper Rating and Credit Score** are highly predictive of loan outcomes. Loans with lower Prosper Ratings (e.g., HR) and lower credit scores have a significantly higher likelihood of default. This finding aligns with standard credit risk theories, where higher-risk borrowers are more likely to default.\r\n",
    "   - **Debt-to-Income Ratio (DTI)** is another critical predictor. Borrowers with a higher DTI are more financially strained, leading to a higher probability of missed payments or default.\r\n",
    "   - **Loan Term** plays a role in loan performance. Longer loan terms (e.g., 60 months) are associated with higher default rates compared to shorter terms, likely due to the extended time horizon increasing uncertainty in the borrower’s financial stability.\r\n",
    "\r\n",
    "2. **Loan Performance Metrics:**\r\n",
    "   - **Total Payments and Principal Balance** metrics indicate that loans with consistent payments reduce their outstanding balance over time. However, loans that fall behind in payments show a slower reduction in the principal balance, increasing the overall cost to the borrower due to accumulated interest.\r\n",
    "   - **Delinquencies** are a strong indicator of potential loan performance. Borrowers with a history of delinquencies are more likely to struggle with loan repayment.\r\n",
    "\r\n",
    "3. **Borrower Characteristics:**\r\n",
    "   - **Employment Status and Income** are crucial indicators of a borrower’s ability to repay. Employed borrowers with stable income sources have a significantly lower risk of default, while those with unstable employment or low income are more likely to default.\r\n",
    "   - **Homeownership Status** suggests that homeowners are generally more financially stable and have a lower risk of default compared to renters or those with a mortgage.\r\n",
    "\r\n",
    "4. **Loan Purpose and Listing Category:**\r\n",
    "   - **Debt Consolidation Loans** are the most common and generally perform better than other categories like **Small Business Loans**, which tend to have higher default rates. This could be due to the inherent risk associated with small businesses, which can be volatile and less predictable.\r\n",
    "\r\n",
    "5. **Investor Insights:**\r\n",
    "   - Loans with a higher **Number of Investors** tend to have lower risk, possibly due to the collective due diligence of multiple investors. The **Lender Yield** is typically higher for riskier loans, compensating investors for the increased risk.\r\n",
    "\r\n",
    "### **Recommendations**\r\n",
    "\r\n",
    "1. **Enhanced Risk Assessment Models:**\r\n",
    "   - Prosper should continue to refine its credit risk models by incorporating features like **Debt-to-Income Ratio, Employment Status,** and **Delinquencies** in combination with the **Prosper Rating** and **Credit Score**. Advanced machine learning models, such as gradient boosting or random forests, could be used to improve the accuracy of default predictions.\r\n",
    "\r\n",
    "2. **Loan Product Optimization:**\r\n",
    "   - Consider adjusting interest rates and loan terms based on risk profiles. For instance, offering shorter-term loans or higher interest rates to borrowers with lower credit scores or higher DTI could mitigate potential losses.\r\n",
    "   - Introduce more stringent lending criteria for high-risk loan categories, such as **Small Business Loans,** or offer these loans with collateral requirements to reduce the risk of default.\r\n",
    "\r\n",
    "3. **Borrower Support Initiatives:**\r\n",
    "   - Implement financial literacy programs aimed at borrowers with lower credit scores or higher DTI ratios. Educating borrowers on debt management and financial planning could reduce the likelihood of default.\r\n",
    "   - Consider offering hardship programs for borrowers who experience sudden financial difficulties, such as job loss, to reduce delinquencies and defaults.\r\n",
    "\r\n",
    "4. **Investor Communication and Education:**\r\n",
    "   - Provide investors with more detailed risk profiles of borrowers, including historical default rates by **Prosper Rating, Credit Score,** and **Loan Category.** This transparency could help investors make more informed decisions.\r\n",
    "   - Encourage diversification by advising investors to spread their investments across multiple loans with varying risk levels, which could reduce the impact of defaults on their overall returns.\r\n",
    "\r\n",
    "5. **Continuous Monitoring and Improvement:**\r\n",
    "   - Regularly update and monitor the risk models to adapt to changes in the economic environment. For example, during economic downturns, tighten lending criteria or increase monitoring of high-risk loans.\r\n",
    "   - Use data analytics to continuously assess loan performance and borrower behavior, allowing for proactive adjustments in lending strategies.\r\n",
    "\r\n",
    "### **Final Thoughts**\r\n",
    "\r\n",
    "The Prosper Loan Dataset offers valuable insights into borrower behavior, loan performance, and credit risk. By leveraging these insights through advanced analytics, Prosper can improve its lending practices, enhance investor returns, and reduce the risk of defaults. Continuous improvement of risk models and borrower support initiatives will be key to sustaining long-term success in the peer-to-peer lending market."
   ]
  }
 ],
 "metadata": {
  "kernelspec": {
   "display_name": "Python 3 (ipykernel)",
   "language": "python",
   "name": "python3"
  },
  "language_info": {
   "codemirror_mode": {
    "name": "ipython",
    "version": 3
   },
   "file_extension": ".py",
   "mimetype": "text/x-python",
   "name": "python",
   "nbconvert_exporter": "python",
   "pygments_lexer": "ipython3",
   "version": "3.11.7"
  }
 },
 "nbformat": 4,
 "nbformat_minor": 5
}
